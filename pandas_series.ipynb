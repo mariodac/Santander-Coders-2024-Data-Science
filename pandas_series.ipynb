{
  "nbformat": 4,
  "nbformat_minor": 0,
  "metadata": {
    "colab": {
      "provenance": [],
      "authorship_tag": "ABX9TyMlXkJrvENLoj4Ky9JKjxly",
      "include_colab_link": true
    },
    "kernelspec": {
      "name": "python3",
      "display_name": "Python 3"
    },
    "language_info": {
      "name": "python"
    }
  },
  "cells": [
    {
      "cell_type": "markdown",
      "metadata": {
        "id": "view-in-github",
        "colab_type": "text"
      },
      "source": [
        "<a href=\"https://colab.research.google.com/github/mariodac/Santander-Coders-2024-Data-Science-/blob/main/pandas_series.ipynb\" target=\"_parent\"><img src=\"https://colab.research.google.com/assets/colab-badge.svg\" alt=\"Open In Colab\"/></a>"
      ]
    },
    {
      "cell_type": "markdown",
      "source": [
        "# Pandas Series"
      ],
      "metadata": {
        "id": "Fc82eaRoSepJ"
      }
    },
    {
      "cell_type": "code",
      "execution_count": 1,
      "metadata": {
        "id": "GsCrVsqxI9Is"
      },
      "outputs": [],
      "source": [
        "import pandas as pd"
      ]
    },
    {
      "cell_type": "code",
      "source": [
        "lista = [12, 23, 34, 45, 56, 67]\n",
        "serie_pandas = pd.Series(lista)"
      ],
      "metadata": {
        "id": "MXFsM4wDR0V7"
      },
      "execution_count": 2,
      "outputs": []
    },
    {
      "cell_type": "code",
      "source": [
        "print(serie_pandas)\n",
        "print('Primeiro elemento', serie_pandas[0])"
      ],
      "metadata": {
        "colab": {
          "base_uri": "https://localhost:8080/"
        },
        "id": "T8w_PAcCSICJ",
        "outputId": "89cb6fc5-74eb-47bc-a8d5-0ce0409820e6"
      },
      "execution_count": 4,
      "outputs": [
        {
          "output_type": "stream",
          "name": "stdout",
          "text": [
            "0    12\n",
            "1    23\n",
            "2    34\n",
            "3    45\n",
            "4    56\n",
            "5    67\n",
            "dtype: int64\n",
            "Primeiro elemento 12\n"
          ]
        }
      ]
    },
    {
      "cell_type": "code",
      "source": [
        "notas = {'Tiago' : 8, 'Guilherme' : 9.5, 'Juca' : 6.2}\n",
        "serie_notas = pd.Series(notas)\n",
        "print(serie_notas)\n",
        "print(serie_notas['Tiago'])"
      ],
      "metadata": {
        "colab": {
          "base_uri": "https://localhost:8080/"
        },
        "id": "aF4fE4E4Slsv",
        "outputId": "d67291e6-d832-4115-dea1-52ccc875c6b2"
      },
      "execution_count": 6,
      "outputs": [
        {
          "output_type": "stream",
          "name": "stdout",
          "text": [
            "Tiago        8.0\n",
            "Guilherme    9.5\n",
            "Juca         6.2\n",
            "dtype: float64\n",
            "8.0\n"
          ]
        }
      ]
    },
    {
      "cell_type": "code",
      "source": [
        "print(serie_notas.describe())"
      ],
      "metadata": {
        "colab": {
          "base_uri": "https://localhost:8080/"
        },
        "id": "iRwiPotpTBwY",
        "outputId": "e1cbbb1c-1769-450d-80da-2d8d586040a0"
      },
      "execution_count": 7,
      "outputs": [
        {
          "output_type": "stream",
          "name": "stdout",
          "text": [
            "count    3.000000\n",
            "mean     7.900000\n",
            "std      1.652271\n",
            "min      6.200000\n",
            "25%      7.100000\n",
            "50%      8.000000\n",
            "75%      8.750000\n",
            "max      9.500000\n",
            "dtype: float64\n"
          ]
        }
      ]
    }
  ]
}